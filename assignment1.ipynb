{
 "cells": [
  {
   "cell_type": "markdown",
   "metadata": {
    "id": "f1N2pu7LxKUY"
   },
   "source": [
    "# DTSC670: Foundations of Machine Learning Models\n",
    "\n",
    "## Assignment 1: Johnny Likes Pie\n",
    "\n",
    "#### Name:"
   ]
  },
  {
   "cell_type": "markdown",
   "metadata": {
    "id": "T1R5rZiGxKUl"
   },
   "source": [
    "### CodeGrade\n",
    "Note that this assignment will be automatically graded through CodeGrade and you will have unlimited submission attempts.  When submitting to CodeGrade, your notebook should be named `assignment1.ipynb` and there should be no errors in the file or CodeGrade will not be able to grade it.  Before submitting, I suggest that you restart your kernel and attempt to run all cells again to ensure that there will be no errors when CodeGrade runs your script.\n",
    "\n",
    "### Details\n",
    "\n",
    "First, make sure that you watch the video titled \"Should You Play Golf Today\" in the \"Preparation for Assignment 1\" section of Brightspace.  This assignment is meant to purely allow you to perform some basic steps with Scikit-Learn to get you used to working with it.\n",
    "\n",
    "The following data describes features of different types of pie, along with a positive or negative classification of the pie based whether or not Johnny likes it.  A positive classification means Johnny likes that pie; a negative classification means Johnny does not like that pie.\n",
    "\n",
    "<img src=\"JohnnyPies.png \" width =\"600\" />\n",
    "\n",
    "### Import Data\n",
    "\n",
    "Let's start out by importing some standard imports."
   ]
  },
  {
   "cell_type": "code",
   "execution_count": 1,
   "metadata": {},
   "outputs": [],
   "source": [
    "# common imports\n",
    "import numpy as np\n",
    "import pandas as pd\n",
    "\n",
    "# Do not change these options; This allows the CodeGrade auto grading to function correctly\n",
    "pd.set_option('display.max_columns', None)\n",
    "import warnings\n",
    "warnings.filterwarnings('ignore') "
   ]
  },
  {
   "cell_type": "markdown",
   "metadata": {},
   "source": [
    "Next you should place the data file called `JohnnyPiesData.csv` and this Jupyter notebook in the same directory.  Use the [read_csv()](https://pandas.pydata.org/pandas-docs/stable/reference/api/pandas.read_csv.html) function to read in the data from the comma-separated values (csv) file to a Pandas DataFrame called `pie_df` and output the data to take a look."
   ]
  },
  {
   "cell_type": "code",
   "execution_count": 2,
   "metadata": {
    "id": "I1lAMsOYxKUm",
    "outputId": "21650b86-502c-41ce-bb70-1c21a3900438"
   },
   "outputs": [
    {
     "data": {
      "text/html": [
       "<div>\n",
       "<style scoped>\n",
       "    .dataframe tbody tr th:only-of-type {\n",
       "        vertical-align: middle;\n",
       "    }\n",
       "\n",
       "    .dataframe tbody tr th {\n",
       "        vertical-align: top;\n",
       "    }\n",
       "\n",
       "    .dataframe thead th {\n",
       "        text-align: right;\n",
       "    }\n",
       "</style>\n",
       "<table border=\"1\" class=\"dataframe\">\n",
       "  <thead>\n",
       "    <tr style=\"text-align: right;\">\n",
       "      <th></th>\n",
       "      <th>Example</th>\n",
       "      <th>Crust Shape</th>\n",
       "      <th>Crust Size</th>\n",
       "      <th>Crust Shade</th>\n",
       "      <th>Filling Size</th>\n",
       "      <th>Filling Shade</th>\n",
       "      <th>Class</th>\n",
       "    </tr>\n",
       "  </thead>\n",
       "  <tbody>\n",
       "    <tr>\n",
       "      <th>0</th>\n",
       "      <td>ex1</td>\n",
       "      <td>Circle</td>\n",
       "      <td>Thick</td>\n",
       "      <td>Gray</td>\n",
       "      <td>Thick</td>\n",
       "      <td>Dark</td>\n",
       "      <td>pos</td>\n",
       "    </tr>\n",
       "    <tr>\n",
       "      <th>1</th>\n",
       "      <td>ex2</td>\n",
       "      <td>Circle</td>\n",
       "      <td>Thick</td>\n",
       "      <td>White</td>\n",
       "      <td>Thick</td>\n",
       "      <td>Dark</td>\n",
       "      <td>pos</td>\n",
       "    </tr>\n",
       "    <tr>\n",
       "      <th>2</th>\n",
       "      <td>ex3</td>\n",
       "      <td>Triangle</td>\n",
       "      <td>Thick</td>\n",
       "      <td>Dark</td>\n",
       "      <td>Thick</td>\n",
       "      <td>Gray</td>\n",
       "      <td>pos</td>\n",
       "    </tr>\n",
       "    <tr>\n",
       "      <th>3</th>\n",
       "      <td>ex4</td>\n",
       "      <td>Circle</td>\n",
       "      <td>Thin</td>\n",
       "      <td>White</td>\n",
       "      <td>Thin</td>\n",
       "      <td>Dark</td>\n",
       "      <td>pos</td>\n",
       "    </tr>\n",
       "    <tr>\n",
       "      <th>4</th>\n",
       "      <td>ex5</td>\n",
       "      <td>Square</td>\n",
       "      <td>Thick</td>\n",
       "      <td>Dark</td>\n",
       "      <td>Thin</td>\n",
       "      <td>White</td>\n",
       "      <td>pos</td>\n",
       "    </tr>\n",
       "    <tr>\n",
       "      <th>5</th>\n",
       "      <td>ex6</td>\n",
       "      <td>Circle</td>\n",
       "      <td>Thick</td>\n",
       "      <td>White</td>\n",
       "      <td>Thin</td>\n",
       "      <td>Dark</td>\n",
       "      <td>pos</td>\n",
       "    </tr>\n",
       "    <tr>\n",
       "      <th>6</th>\n",
       "      <td>ex7</td>\n",
       "      <td>Circle</td>\n",
       "      <td>Thick</td>\n",
       "      <td>Gray</td>\n",
       "      <td>Thick</td>\n",
       "      <td>White</td>\n",
       "      <td>neg</td>\n",
       "    </tr>\n",
       "    <tr>\n",
       "      <th>7</th>\n",
       "      <td>ex8</td>\n",
       "      <td>Square</td>\n",
       "      <td>Thick</td>\n",
       "      <td>White</td>\n",
       "      <td>Thick</td>\n",
       "      <td>Gray</td>\n",
       "      <td>neg</td>\n",
       "    </tr>\n",
       "    <tr>\n",
       "      <th>8</th>\n",
       "      <td>ex9</td>\n",
       "      <td>Triangle</td>\n",
       "      <td>Thin</td>\n",
       "      <td>Gray</td>\n",
       "      <td>Thin</td>\n",
       "      <td>Dark</td>\n",
       "      <td>neg</td>\n",
       "    </tr>\n",
       "    <tr>\n",
       "      <th>9</th>\n",
       "      <td>ex10</td>\n",
       "      <td>Circle</td>\n",
       "      <td>Thick</td>\n",
       "      <td>Dark</td>\n",
       "      <td>Thick</td>\n",
       "      <td>White</td>\n",
       "      <td>neg</td>\n",
       "    </tr>\n",
       "    <tr>\n",
       "      <th>10</th>\n",
       "      <td>ex11</td>\n",
       "      <td>Square</td>\n",
       "      <td>Thick</td>\n",
       "      <td>White</td>\n",
       "      <td>Thick</td>\n",
       "      <td>Dark</td>\n",
       "      <td>neg</td>\n",
       "    </tr>\n",
       "    <tr>\n",
       "      <th>11</th>\n",
       "      <td>ex12</td>\n",
       "      <td>Triangle</td>\n",
       "      <td>Thick</td>\n",
       "      <td>White</td>\n",
       "      <td>Thick</td>\n",
       "      <td>Gray</td>\n",
       "      <td>neg</td>\n",
       "    </tr>\n",
       "  </tbody>\n",
       "</table>\n",
       "</div>"
      ],
      "text/plain": [
       "   Example Crust Shape Crust Size Crust Shade Filling Size Filling Shade Class\n",
       "0      ex1      Circle      Thick        Gray        Thick          Dark   pos\n",
       "1      ex2      Circle      Thick       White        Thick          Dark   pos\n",
       "2      ex3    Triangle      Thick        Dark        Thick          Gray   pos\n",
       "3      ex4      Circle       Thin       White         Thin          Dark   pos\n",
       "4      ex5      Square      Thick        Dark         Thin         White   pos\n",
       "5      ex6      Circle      Thick       White         Thin          Dark   pos\n",
       "6      ex7      Circle      Thick        Gray        Thick         White   neg\n",
       "7      ex8      Square      Thick       White        Thick          Gray   neg\n",
       "8      ex9    Triangle       Thin        Gray         Thin          Dark   neg\n",
       "9     ex10      Circle      Thick        Dark        Thick         White   neg\n",
       "10    ex11      Square      Thick       White        Thick          Dark   neg\n",
       "11    ex12    Triangle      Thick       White        Thick          Gray   neg"
      ]
     },
     "execution_count": 2,
     "metadata": {},
     "output_type": "execute_result"
    }
   ],
   "source": [
    "fileName = \"JohnnyPiesData.csv\"\n",
    "#pie_df = pd.read_csv('C:/Users/Public/JohnnyPiesData.csv') #for my own use\n",
    "pie_df = pd.read_csv(\"JohnnyPiesData.csv\")\n",
    "pie_df"
   ]
  },
  {
   "cell_type": "markdown",
   "metadata": {
    "id": "hgkIaAu8xKUp"
   },
   "source": [
    "## Prepare Data for Linear Regression"
   ]
  },
  {
   "cell_type": "markdown",
   "metadata": {
    "id": "VcpqVN0_xKUp"
   },
   "source": [
    "- Drop the `Example` column from the `pie_df` DataFrame, because it offers no information.\n",
    "\n",
    "- Encode all categorical data into numeric data via the \"One Hot Encoding\" technique provided by the Pandas [get_dummies()](https://pandas.pydata.org/pandas-docs/stable/reference/api/pandas.get_dummies.html) function.  \n",
    "\n",
    "  - Since we are performing ordinary least squares linear regression, we will want to drop one of the newly created Boolean-valued features (output from the `get_dummies()` function) to prevent introducing unwanted correlation in the data.  Include `drop_first = True` as an argument to the `get_dummies()` function.\n",
    "\n",
    "- Store the final features in a DataFrame called `features`.  The one-hot-encoded columns must go in the same order as the original data so that the linear regression coefficients match what CodeGrade is expecting.\n",
    "\n",
    "- Store the positive class labels in a DataFrame called `response`.  The `response` data must be a DataFrame and not a Series or some of the code towards the end of this notebook may not function correctly and your output might be slightly different than what CodeGrade is expecting.\n",
    "\n",
    "**Note:** Since we are not concerned with generalization error in this assignment, we will not split our data into training and test sets. In 'real-world' projects, you would want to split your data to see how your model performs with data that it has never seen before."
   ]
  },
  {
   "cell_type": "code",
   "execution_count": 4,
   "metadata": {
    "id": "Rdl27SrzxKUq",
    "outputId": "a82aacb2-d422-4d51-e306-e36c5372dd8b"
   },
   "outputs": [
    {
     "data": {
      "text/html": [
       "<div>\n",
       "<style scoped>\n",
       "    .dataframe tbody tr th:only-of-type {\n",
       "        vertical-align: middle;\n",
       "    }\n",
       "\n",
       "    .dataframe tbody tr th {\n",
       "        vertical-align: top;\n",
       "    }\n",
       "\n",
       "    .dataframe thead th {\n",
       "        text-align: right;\n",
       "    }\n",
       "</style>\n",
       "<table border=\"1\" class=\"dataframe\">\n",
       "  <thead>\n",
       "    <tr style=\"text-align: right;\">\n",
       "      <th></th>\n",
       "      <th>Crust Shape_Square</th>\n",
       "      <th>Crust Shape_Triangle</th>\n",
       "      <th>Crust Size_Thin</th>\n",
       "      <th>Crust Shade_Gray</th>\n",
       "      <th>Crust Shade_White</th>\n",
       "      <th>Filling Size_Thin</th>\n",
       "      <th>Filling Shade_Gray</th>\n",
       "      <th>Filling Shade_White</th>\n",
       "    </tr>\n",
       "  </thead>\n",
       "  <tbody>\n",
       "    <tr>\n",
       "      <th>0</th>\n",
       "      <td>0</td>\n",
       "      <td>0</td>\n",
       "      <td>0</td>\n",
       "      <td>1</td>\n",
       "      <td>0</td>\n",
       "      <td>0</td>\n",
       "      <td>0</td>\n",
       "      <td>0</td>\n",
       "    </tr>\n",
       "    <tr>\n",
       "      <th>1</th>\n",
       "      <td>0</td>\n",
       "      <td>0</td>\n",
       "      <td>0</td>\n",
       "      <td>0</td>\n",
       "      <td>1</td>\n",
       "      <td>0</td>\n",
       "      <td>0</td>\n",
       "      <td>0</td>\n",
       "    </tr>\n",
       "    <tr>\n",
       "      <th>2</th>\n",
       "      <td>0</td>\n",
       "      <td>1</td>\n",
       "      <td>0</td>\n",
       "      <td>0</td>\n",
       "      <td>0</td>\n",
       "      <td>0</td>\n",
       "      <td>1</td>\n",
       "      <td>0</td>\n",
       "    </tr>\n",
       "    <tr>\n",
       "      <th>3</th>\n",
       "      <td>0</td>\n",
       "      <td>0</td>\n",
       "      <td>1</td>\n",
       "      <td>0</td>\n",
       "      <td>1</td>\n",
       "      <td>1</td>\n",
       "      <td>0</td>\n",
       "      <td>0</td>\n",
       "    </tr>\n",
       "    <tr>\n",
       "      <th>4</th>\n",
       "      <td>1</td>\n",
       "      <td>0</td>\n",
       "      <td>0</td>\n",
       "      <td>0</td>\n",
       "      <td>0</td>\n",
       "      <td>1</td>\n",
       "      <td>0</td>\n",
       "      <td>1</td>\n",
       "    </tr>\n",
       "    <tr>\n",
       "      <th>5</th>\n",
       "      <td>0</td>\n",
       "      <td>0</td>\n",
       "      <td>0</td>\n",
       "      <td>0</td>\n",
       "      <td>1</td>\n",
       "      <td>1</td>\n",
       "      <td>0</td>\n",
       "      <td>0</td>\n",
       "    </tr>\n",
       "    <tr>\n",
       "      <th>6</th>\n",
       "      <td>0</td>\n",
       "      <td>0</td>\n",
       "      <td>0</td>\n",
       "      <td>1</td>\n",
       "      <td>0</td>\n",
       "      <td>0</td>\n",
       "      <td>0</td>\n",
       "      <td>1</td>\n",
       "    </tr>\n",
       "    <tr>\n",
       "      <th>7</th>\n",
       "      <td>1</td>\n",
       "      <td>0</td>\n",
       "      <td>0</td>\n",
       "      <td>0</td>\n",
       "      <td>1</td>\n",
       "      <td>0</td>\n",
       "      <td>1</td>\n",
       "      <td>0</td>\n",
       "    </tr>\n",
       "    <tr>\n",
       "      <th>8</th>\n",
       "      <td>0</td>\n",
       "      <td>1</td>\n",
       "      <td>1</td>\n",
       "      <td>1</td>\n",
       "      <td>0</td>\n",
       "      <td>1</td>\n",
       "      <td>0</td>\n",
       "      <td>0</td>\n",
       "    </tr>\n",
       "    <tr>\n",
       "      <th>9</th>\n",
       "      <td>0</td>\n",
       "      <td>0</td>\n",
       "      <td>0</td>\n",
       "      <td>0</td>\n",
       "      <td>0</td>\n",
       "      <td>0</td>\n",
       "      <td>0</td>\n",
       "      <td>1</td>\n",
       "    </tr>\n",
       "    <tr>\n",
       "      <th>10</th>\n",
       "      <td>1</td>\n",
       "      <td>0</td>\n",
       "      <td>0</td>\n",
       "      <td>0</td>\n",
       "      <td>1</td>\n",
       "      <td>0</td>\n",
       "      <td>0</td>\n",
       "      <td>0</td>\n",
       "    </tr>\n",
       "    <tr>\n",
       "      <th>11</th>\n",
       "      <td>0</td>\n",
       "      <td>1</td>\n",
       "      <td>0</td>\n",
       "      <td>0</td>\n",
       "      <td>1</td>\n",
       "      <td>0</td>\n",
       "      <td>1</td>\n",
       "      <td>0</td>\n",
       "    </tr>\n",
       "  </tbody>\n",
       "</table>\n",
       "</div>"
      ],
      "text/plain": [
       "    Crust Shape_Square  Crust Shape_Triangle  Crust Size_Thin  \\\n",
       "0                    0                     0                0   \n",
       "1                    0                     0                0   \n",
       "2                    0                     1                0   \n",
       "3                    0                     0                1   \n",
       "4                    1                     0                0   \n",
       "5                    0                     0                0   \n",
       "6                    0                     0                0   \n",
       "7                    1                     0                0   \n",
       "8                    0                     1                1   \n",
       "9                    0                     0                0   \n",
       "10                   1                     0                0   \n",
       "11                   0                     1                0   \n",
       "\n",
       "    Crust Shade_Gray  Crust Shade_White  Filling Size_Thin  \\\n",
       "0                  1                  0                  0   \n",
       "1                  0                  1                  0   \n",
       "2                  0                  0                  0   \n",
       "3                  0                  1                  1   \n",
       "4                  0                  0                  1   \n",
       "5                  0                  1                  1   \n",
       "6                  1                  0                  0   \n",
       "7                  0                  1                  0   \n",
       "8                  1                  0                  1   \n",
       "9                  0                  0                  0   \n",
       "10                 0                  1                  0   \n",
       "11                 0                  1                  0   \n",
       "\n",
       "    Filling Shade_Gray  Filling Shade_White  \n",
       "0                    0                    0  \n",
       "1                    0                    0  \n",
       "2                    1                    0  \n",
       "3                    0                    0  \n",
       "4                    0                    1  \n",
       "5                    0                    0  \n",
       "6                    0                    1  \n",
       "7                    1                    0  \n",
       "8                    0                    0  \n",
       "9                    0                    1  \n",
       "10                   0                    0  \n",
       "11                   1                    0  "
      ]
     },
     "execution_count": 4,
     "metadata": {},
     "output_type": "execute_result"
    }
   ],
   "source": [
    "features = pd.get_dummies(pie_df, columns =['Crust Shape', 'Crust Size', 'Crust Shade', 'Filling Size', 'Filling Shade', 'Class'], drop_first=True)\n",
    "features\n",
    "response = features[['Class_pos']]\n",
    "features = features.drop(['Example'], axis =1);\n",
    "features = features.drop(['Class_pos'], axis=1)\n",
    "features\n",
    "\n",
    "# You may create more cells throughout as needed, \n",
    "# but your final submission must be neat and concise"
   ]
  },
  {
   "cell_type": "markdown",
   "metadata": {
    "id": "tIS1zHOoxKUs"
   },
   "source": [
    "## Perfrom Linear Regression Model Fitting\n",
    "\n",
    "1. Import the [LinearRegression](https://scikit-learn.org/stable/modules/generated/sklearn.linear_model.LinearRegression.html) class from the `sklearn.linear_model` library. \n",
    "\n",
    "2. Instantiate an object of the `LinearRegression` class called `reg_model`.\n",
    "\n",
    "3. Train the model by invoking the `fit()` method of the `reg_model` object and passing it `features` and `response`."
   ]
  },
  {
   "cell_type": "code",
   "execution_count": 5,
   "metadata": {
    "id": "IlnnCVQHxKUs",
    "outputId": "5cbca257-2905-4de4-fa9a-ca0cb0b5bfa5"
   },
   "outputs": [
    {
     "data": {
      "text/html": [
       "<style>#sk-container-id-1 {color: black;}#sk-container-id-1 pre{padding: 0;}#sk-container-id-1 div.sk-toggleable {background-color: white;}#sk-container-id-1 label.sk-toggleable__label {cursor: pointer;display: block;width: 100%;margin-bottom: 0;padding: 0.3em;box-sizing: border-box;text-align: center;}#sk-container-id-1 label.sk-toggleable__label-arrow:before {content: \"▸\";float: left;margin-right: 0.25em;color: #696969;}#sk-container-id-1 label.sk-toggleable__label-arrow:hover:before {color: black;}#sk-container-id-1 div.sk-estimator:hover label.sk-toggleable__label-arrow:before {color: black;}#sk-container-id-1 div.sk-toggleable__content {max-height: 0;max-width: 0;overflow: hidden;text-align: left;background-color: #f0f8ff;}#sk-container-id-1 div.sk-toggleable__content pre {margin: 0.2em;color: black;border-radius: 0.25em;background-color: #f0f8ff;}#sk-container-id-1 input.sk-toggleable__control:checked~div.sk-toggleable__content {max-height: 200px;max-width: 100%;overflow: auto;}#sk-container-id-1 input.sk-toggleable__control:checked~label.sk-toggleable__label-arrow:before {content: \"▾\";}#sk-container-id-1 div.sk-estimator input.sk-toggleable__control:checked~label.sk-toggleable__label {background-color: #d4ebff;}#sk-container-id-1 div.sk-label input.sk-toggleable__control:checked~label.sk-toggleable__label {background-color: #d4ebff;}#sk-container-id-1 input.sk-hidden--visually {border: 0;clip: rect(1px 1px 1px 1px);clip: rect(1px, 1px, 1px, 1px);height: 1px;margin: -1px;overflow: hidden;padding: 0;position: absolute;width: 1px;}#sk-container-id-1 div.sk-estimator {font-family: monospace;background-color: #f0f8ff;border: 1px dotted black;border-radius: 0.25em;box-sizing: border-box;margin-bottom: 0.5em;}#sk-container-id-1 div.sk-estimator:hover {background-color: #d4ebff;}#sk-container-id-1 div.sk-parallel-item::after {content: \"\";width: 100%;border-bottom: 1px solid gray;flex-grow: 1;}#sk-container-id-1 div.sk-label:hover label.sk-toggleable__label {background-color: #d4ebff;}#sk-container-id-1 div.sk-serial::before {content: \"\";position: absolute;border-left: 1px solid gray;box-sizing: border-box;top: 0;bottom: 0;left: 50%;z-index: 0;}#sk-container-id-1 div.sk-serial {display: flex;flex-direction: column;align-items: center;background-color: white;padding-right: 0.2em;padding-left: 0.2em;position: relative;}#sk-container-id-1 div.sk-item {position: relative;z-index: 1;}#sk-container-id-1 div.sk-parallel {display: flex;align-items: stretch;justify-content: center;background-color: white;position: relative;}#sk-container-id-1 div.sk-item::before, #sk-container-id-1 div.sk-parallel-item::before {content: \"\";position: absolute;border-left: 1px solid gray;box-sizing: border-box;top: 0;bottom: 0;left: 50%;z-index: -1;}#sk-container-id-1 div.sk-parallel-item {display: flex;flex-direction: column;z-index: 1;position: relative;background-color: white;}#sk-container-id-1 div.sk-parallel-item:first-child::after {align-self: flex-end;width: 50%;}#sk-container-id-1 div.sk-parallel-item:last-child::after {align-self: flex-start;width: 50%;}#sk-container-id-1 div.sk-parallel-item:only-child::after {width: 0;}#sk-container-id-1 div.sk-dashed-wrapped {border: 1px dashed gray;margin: 0 0.4em 0.5em 0.4em;box-sizing: border-box;padding-bottom: 0.4em;background-color: white;}#sk-container-id-1 div.sk-label label {font-family: monospace;font-weight: bold;display: inline-block;line-height: 1.2em;}#sk-container-id-1 div.sk-label-container {text-align: center;}#sk-container-id-1 div.sk-container {/* jupyter's `normalize.less` sets `[hidden] { display: none; }` but bootstrap.min.css set `[hidden] { display: none !important; }` so we also need the `!important` here to be able to override the default hidden behavior on the sphinx rendered scikit-learn.org. See: https://github.com/scikit-learn/scikit-learn/issues/21755 */display: inline-block !important;position: relative;}#sk-container-id-1 div.sk-text-repr-fallback {display: none;}</style><div id=\"sk-container-id-1\" class=\"sk-top-container\"><div class=\"sk-text-repr-fallback\"><pre>LinearRegression()</pre><b>In a Jupyter environment, please rerun this cell to show the HTML representation or trust the notebook. <br />On GitHub, the HTML representation is unable to render, please try loading this page with nbviewer.org.</b></div><div class=\"sk-container\" hidden><div class=\"sk-item\"><div class=\"sk-estimator sk-toggleable\"><input class=\"sk-toggleable__control sk-hidden--visually\" id=\"sk-estimator-id-1\" type=\"checkbox\" checked><label for=\"sk-estimator-id-1\" class=\"sk-toggleable__label sk-toggleable__label-arrow\">LinearRegression</label><div class=\"sk-toggleable__content\"><pre>LinearRegression()</pre></div></div></div></div></div>"
      ],
      "text/plain": [
       "LinearRegression()"
      ]
     },
     "execution_count": 5,
     "metadata": {},
     "output_type": "execute_result"
    }
   ],
   "source": [
    "from sklearn.linear_model import LinearRegression\n",
    "reg_model = LinearRegression()\n",
    "reg_model.fit(features,response)"
   ]
  },
  {
   "cell_type": "markdown",
   "metadata": {
    "id": "iajaFsO7xKUt"
   },
   "source": [
    "## Examine Linear Regression Model Parameters\n",
    "\n",
    "View the trained model parameters by using the `coef_` and `intercept_` attributes of the trained model."
   ]
  },
  {
   "cell_type": "code",
   "execution_count": 6,
   "metadata": {
    "id": "tneKsvsoxKUt",
    "outputId": "a3c1a212-8bf8-4553-cf57-cbf9e96e6e04"
   },
   "outputs": [
    {
     "data": {
      "text/plain": [
       "array([[-0.52586207, -0.83189655, -0.56465517, -0.63793103, -0.92672414,\n",
       "         0.70258621,  0.12068966, -1.07327586]])"
      ]
     },
     "execution_count": 6,
     "metadata": {},
     "output_type": "execute_result"
    }
   ],
   "source": [
    "reg_model.coef_"
   ]
  },
  {
   "cell_type": "raw",
   "metadata": {
    "id": "uTTWW-Z0xKUu",
    "outputId": "1eb48e2a-153a-43ba-8a99-c5952cd45a35"
   },
   "source": [
    "reg_model.intercept_"
   ]
  },
  {
   "cell_type": "markdown",
   "metadata": {
    "id": "d36mOAZkxKUu"
   },
   "source": [
    "## Making Predictions Using the Linear Regression Model\n",
    "\n",
    "Evaluate the model's performance on the training data set by invoking the `predict()` method and passing `features` to it.  Save this output as `preds`. \n"
   ]
  },
  {
   "cell_type": "code",
   "execution_count": 7,
   "metadata": {
    "id": "1X5bkMgExKUv",
    "outputId": "cd331af6-61ef-4d94-cf78-925c28817bff"
   },
   "outputs": [
    {
     "data": {
      "text/plain": [
       "array([[ 0.92241379],\n",
       "       [ 0.63362069],\n",
       "       [ 0.84913793],\n",
       "       [ 0.77155172],\n",
       "       [ 0.6637931 ],\n",
       "       [ 1.3362069 ],\n",
       "       [-0.15086207],\n",
       "       [ 0.22844828],\n",
       "       [ 0.22844828],\n",
       "       [ 0.48706897],\n",
       "       [ 0.10775862],\n",
       "       [-0.07758621]])"
      ]
     },
     "execution_count": 7,
     "metadata": {},
     "output_type": "execute_result"
    }
   ],
   "source": [
    "preds = reg_model.predict(features)\n",
    "preds"
   ]
  },
  {
   "cell_type": "markdown",
   "metadata": {
    "id": "kFYHic54xKUv"
   },
   "source": [
    "Below are the results from the linear regression model:\n",
    "\n",
    "The column \"Class_pos\" regards the \"positive\" or negative classification of the pie.  The column \"Regression_Predictions\" regards the predictions made by the linear regression model directly.  The column \"Predicted_Responses\" are the adjusted prdeictions made by the model after employing the cut-off values of 0 being 0 <= x <= 0.5 and 1 being 0.5 < x <= 1.0.\n",
    "\n",
    "Note:  Make sure that your `response` is a DataFrame and not a Series or some of the code below may not function correctly."
   ]
  },
  {
   "cell_type": "code",
   "execution_count": 8,
   "metadata": {
    "id": "2uuUg7_2xKUv",
    "outputId": "8bcc01d4-afcb-44c5-de62-94b674578dca"
   },
   "outputs": [
    {
     "data": {
      "text/html": [
       "<div>\n",
       "<style scoped>\n",
       "    .dataframe tbody tr th:only-of-type {\n",
       "        vertical-align: middle;\n",
       "    }\n",
       "\n",
       "    .dataframe tbody tr th {\n",
       "        vertical-align: top;\n",
       "    }\n",
       "\n",
       "    .dataframe thead th {\n",
       "        text-align: right;\n",
       "    }\n",
       "</style>\n",
       "<table border=\"1\" class=\"dataframe\">\n",
       "  <thead>\n",
       "    <tr style=\"text-align: right;\">\n",
       "      <th></th>\n",
       "      <th>Class_pos</th>\n",
       "      <th>Regression_Predictions</th>\n",
       "      <th>Predicted_Responses</th>\n",
       "    </tr>\n",
       "  </thead>\n",
       "  <tbody>\n",
       "    <tr>\n",
       "      <th>0</th>\n",
       "      <td>1</td>\n",
       "      <td>0.922414</td>\n",
       "      <td>1</td>\n",
       "    </tr>\n",
       "    <tr>\n",
       "      <th>1</th>\n",
       "      <td>1</td>\n",
       "      <td>0.633621</td>\n",
       "      <td>1</td>\n",
       "    </tr>\n",
       "    <tr>\n",
       "      <th>2</th>\n",
       "      <td>1</td>\n",
       "      <td>0.849138</td>\n",
       "      <td>1</td>\n",
       "    </tr>\n",
       "    <tr>\n",
       "      <th>3</th>\n",
       "      <td>1</td>\n",
       "      <td>0.771552</td>\n",
       "      <td>1</td>\n",
       "    </tr>\n",
       "    <tr>\n",
       "      <th>4</th>\n",
       "      <td>1</td>\n",
       "      <td>0.663793</td>\n",
       "      <td>1</td>\n",
       "    </tr>\n",
       "    <tr>\n",
       "      <th>5</th>\n",
       "      <td>1</td>\n",
       "      <td>1.336207</td>\n",
       "      <td>1</td>\n",
       "    </tr>\n",
       "    <tr>\n",
       "      <th>6</th>\n",
       "      <td>0</td>\n",
       "      <td>-0.150862</td>\n",
       "      <td>0</td>\n",
       "    </tr>\n",
       "    <tr>\n",
       "      <th>7</th>\n",
       "      <td>0</td>\n",
       "      <td>0.228448</td>\n",
       "      <td>0</td>\n",
       "    </tr>\n",
       "    <tr>\n",
       "      <th>8</th>\n",
       "      <td>0</td>\n",
       "      <td>0.228448</td>\n",
       "      <td>0</td>\n",
       "    </tr>\n",
       "    <tr>\n",
       "      <th>9</th>\n",
       "      <td>0</td>\n",
       "      <td>0.487069</td>\n",
       "      <td>0</td>\n",
       "    </tr>\n",
       "    <tr>\n",
       "      <th>10</th>\n",
       "      <td>0</td>\n",
       "      <td>0.107759</td>\n",
       "      <td>0</td>\n",
       "    </tr>\n",
       "    <tr>\n",
       "      <th>11</th>\n",
       "      <td>0</td>\n",
       "      <td>-0.077586</td>\n",
       "      <td>0</td>\n",
       "    </tr>\n",
       "  </tbody>\n",
       "</table>\n",
       "</div>"
      ],
      "text/plain": [
       "    Class_pos  Regression_Predictions  Predicted_Responses\n",
       "0           1                0.922414                    1\n",
       "1           1                0.633621                    1\n",
       "2           1                0.849138                    1\n",
       "3           1                0.771552                    1\n",
       "4           1                0.663793                    1\n",
       "5           1                1.336207                    1\n",
       "6           0               -0.150862                    0\n",
       "7           0                0.228448                    0\n",
       "8           0                0.228448                    0\n",
       "9           0                0.487069                    0\n",
       "10          0                0.107759                    0\n",
       "11          0               -0.077586                    0"
      ]
     },
     "execution_count": 8,
     "metadata": {},
     "output_type": "execute_result"
    }
   ],
   "source": [
    "# resp_comp = Response Comparison\n",
    "\n",
    "resp_comp = response.copy() \n",
    "reg_outputs = [float(reg_model.predict(np.reshape(row, (1, -1)))) for row in features.itertuples(index=False)]\n",
    "predicted_resp = np.array([1 if reg_output > 0.5 else 0 for reg_output in reg_outputs])\n",
    "resp_comp = resp_comp.assign(Regression_Predictions = reg_outputs)\n",
    "resp_comp = resp_comp.assign(Predicted_Responses = predicted_resp)\n",
    "resp_comp"
   ]
  },
  {
   "cell_type": "markdown",
   "metadata": {
    "id": "HdR22sklxKUw"
   },
   "source": [
    "## Calculate Model Accuracy\n",
    "\n",
    "Use the [accuracy_score()](https://scikit-learn.org/stable/modules/generated/sklearn.metrics.accuracy_score.html) function to calculate the accuracy score of the model.  Save the accuracy score as `acc_score`."
   ]
  },
  {
   "cell_type": "code",
   "execution_count": 9,
   "metadata": {
    "id": "DLxiUXVKxKUw",
    "outputId": "70a0779b-77aa-4998-f590-e627f39ae8a1"
   },
   "outputs": [
    {
     "data": {
      "text/plain": [
       "1.0"
      ]
     },
     "execution_count": 9,
     "metadata": {},
     "output_type": "execute_result"
    }
   ],
   "source": [
    "from sklearn.metrics import accuracy_score\n",
    "acc_score = accuracy_score(resp_comp['Class_pos'], resp_comp['Predicted_Responses'])\n",
    "acc_score"
   ]
  }
 ],
 "metadata": {
  "colab": {
   "collapsed_sections": [],
   "name": "Assignment_1_complete.ipynb",
   "provenance": []
  },
  "kernelspec": {
   "display_name": "Python 3 (ipykernel)",
   "language": "python",
   "name": "python3"
  },
  "language_info": {
   "codemirror_mode": {
    "name": "ipython",
    "version": 3
   },
   "file_extension": ".py",
   "mimetype": "text/x-python",
   "name": "python",
   "nbconvert_exporter": "python",
   "pygments_lexer": "ipython3",
   "version": "3.11.4"
  }
 },
 "nbformat": 4,
 "nbformat_minor": 1
}
